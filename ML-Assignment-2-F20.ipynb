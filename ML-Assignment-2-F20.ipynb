{
 "cells": [
  {
   "cell_type": "markdown",
   "metadata": {},
   "source": [
    "# CMSC478 Machine Learning - Fall 2020\n",
    "\n",
    "## Instructor: Fereydoon Vafaei\n",
    "\n",
    "### <font color=\"blue\">Assignment-2: Multi-Class Classification Using Random Forests and SVM</font>"
   ]
  },
  {
   "cell_type": "markdown",
   "metadata": {},
   "source": [
    "*Type your name and ID here* "
   ]
  },
  {
   "cell_type": "markdown",
   "metadata": {},
   "source": [
    "## Overview and Learning Objectives"
   ]
  },
  {
   "cell_type": "markdown",
   "metadata": {},
   "source": [
    "In Assignment-2, you're going to build on the skills you developed in Assignment-1, and extend them on a relatively larger dataset of video games and their ratings as predicted value.\n",
    "\n",
    "As discussed in the lectures, multi-class classification means your model classifies multiple (more than two) classes/labels. You are going to build classifiers that can predict video game ratings.\n",
    "\n",
    "<b>Note:</b> Read ALL the instructions in this notebook very carefully. Careless reading and skipping lines would be a major source of making mistakes and losing points in your assignments. Some outputs have been shared while some others have not been shared intentionally. You may NOT share the outputs, the code, and the answers in Piazza.\n",
    "\n",
    "Pedagogically, this assignment will help you:\n",
    "- better understand the concepts you learned and how to use ML models in practice. \n",
    "- practice reading documentation. This is a very important skill in AI/ML/Data Science collaborative environments and teams.\n",
    "\n",
    "So, let's get started!"
   ]
  },
  {
   "cell_type": "markdown",
   "metadata": {},
   "source": [
    "## Part I - Preprocessing"
   ]
  },
  {
   "cell_type": "markdown",
   "metadata": {},
   "source": [
    "The description of the dataset you're going to work on can be seen [here](https://www.kaggle.com/rush4ratio/video-game-sales-with-ratings). You are going to use the features to predict video game rating - `Rating` column.\n",
    "\n",
    "You can download the dataset directly from [here](https://github.com/fereydoonvafaei/CMSC478-Fall2020/blob/master/data/video-games.csv).\n",
    "\n",
    "Follow the instructions for loading the data, preprocessing, training and testing carefully. You can enter your code in the areas with elipsis `...` notation."
   ]
  },
  {
   "cell_type": "markdown",
   "metadata": {},
   "source": [
    "## <font color=\"red\"> Required Coding"
   ]
  },
  {
   "cell_type": "code",
   "execution_count": 18,
   "metadata": {},
   "outputs": [],
   "source": [
    "# Import all the necessary modules from python and sklearn\n",
    "# You may start with pandas, numpy and matplotlib,\n",
    "# and keep adding the necessary modules here as you move forward\n",
    "...\n",
    "\n",
    "import warnings\n",
    "warnings.filterwarnings(\"ignore\")"
   ]
  },
  {
   "cell_type": "code",
   "execution_count": 1,
   "metadata": {},
   "outputs": [],
   "source": [
    "# Load the data as a dataframe using pandas\n",
    "...\n",
    "\n",
    "print(game_data.shape)\n",
    "game_data.head()"
   ]
  },
  {
   "cell_type": "code",
   "execution_count": 2,
   "metadata": {},
   "outputs": [],
   "source": [
    "# Drop NAs\n",
    "...\n",
    "\n",
    "print(game_data.shape)\n",
    "game_data.head()"
   ]
  },
  {
   "cell_type": "code",
   "execution_count": 3,
   "metadata": {},
   "outputs": [],
   "source": [
    "# Drop \"Name\" column as it does not provide any useful info\n",
    "...\n",
    "\n",
    "print(game_data.shape)\n",
    "game_data.head()"
   ]
  },
  {
   "cell_type": "code",
   "execution_count": 4,
   "metadata": {},
   "outputs": [],
   "source": [
    "# Drop \"Global_Sales\" column as it is a redundant feature - it's just sum of regional and other sales\n",
    "...\n",
    "\n",
    "print(game_data.shape)\n",
    "game_data.head()"
   ]
  },
  {
   "cell_type": "code",
   "execution_count": 46,
   "metadata": {},
   "outputs": [],
   "source": [
    "# Get feature vector X (all columns but \"Rating\") and target label y as \"Rating\"\n",
    "..."
   ]
  },
  {
   "cell_type": "markdown",
   "metadata": {},
   "source": [
    "> You can resort the row indices but it's not necessary."
   ]
  },
  {
   "cell_type": "code",
   "execution_count": 47,
   "metadata": {},
   "outputs": [
    {
     "name": "stdout",
     "output_type": "stream",
     "text": [
      "(6825, 13)\n"
     ]
    },
    {
     "data": {
      "text/html": [
       "<div>\n",
       "<style scoped>\n",
       "    .dataframe tbody tr th:only-of-type {\n",
       "        vertical-align: middle;\n",
       "    }\n",
       "\n",
       "    .dataframe tbody tr th {\n",
       "        vertical-align: top;\n",
       "    }\n",
       "\n",
       "    .dataframe thead th {\n",
       "        text-align: right;\n",
       "    }\n",
       "</style>\n",
       "<table border=\"1\" class=\"dataframe\">\n",
       "  <thead>\n",
       "    <tr style=\"text-align: right;\">\n",
       "      <th></th>\n",
       "      <th>Platform</th>\n",
       "      <th>Year_of_Release</th>\n",
       "      <th>Genre</th>\n",
       "      <th>Publisher</th>\n",
       "      <th>NA_Sales</th>\n",
       "      <th>EU_Sales</th>\n",
       "      <th>JP_Sales</th>\n",
       "      <th>Other_Sales</th>\n",
       "      <th>Critic_Score</th>\n",
       "      <th>Critic_Count</th>\n",
       "      <th>User_Score</th>\n",
       "      <th>User_Count</th>\n",
       "      <th>Developer</th>\n",
       "    </tr>\n",
       "  </thead>\n",
       "  <tbody>\n",
       "    <tr>\n",
       "      <th>0</th>\n",
       "      <td>Wii</td>\n",
       "      <td>2006.0</td>\n",
       "      <td>Sports</td>\n",
       "      <td>Nintendo</td>\n",
       "      <td>41.36</td>\n",
       "      <td>28.96</td>\n",
       "      <td>3.77</td>\n",
       "      <td>8.45</td>\n",
       "      <td>76.0</td>\n",
       "      <td>51.0</td>\n",
       "      <td>8</td>\n",
       "      <td>322.0</td>\n",
       "      <td>Nintendo</td>\n",
       "    </tr>\n",
       "    <tr>\n",
       "      <th>2</th>\n",
       "      <td>Wii</td>\n",
       "      <td>2008.0</td>\n",
       "      <td>Racing</td>\n",
       "      <td>Nintendo</td>\n",
       "      <td>15.68</td>\n",
       "      <td>12.76</td>\n",
       "      <td>3.79</td>\n",
       "      <td>3.29</td>\n",
       "      <td>82.0</td>\n",
       "      <td>73.0</td>\n",
       "      <td>8.3</td>\n",
       "      <td>709.0</td>\n",
       "      <td>Nintendo</td>\n",
       "    </tr>\n",
       "    <tr>\n",
       "      <th>3</th>\n",
       "      <td>Wii</td>\n",
       "      <td>2009.0</td>\n",
       "      <td>Sports</td>\n",
       "      <td>Nintendo</td>\n",
       "      <td>15.61</td>\n",
       "      <td>10.93</td>\n",
       "      <td>3.28</td>\n",
       "      <td>2.95</td>\n",
       "      <td>80.0</td>\n",
       "      <td>73.0</td>\n",
       "      <td>8</td>\n",
       "      <td>192.0</td>\n",
       "      <td>Nintendo</td>\n",
       "    </tr>\n",
       "    <tr>\n",
       "      <th>6</th>\n",
       "      <td>DS</td>\n",
       "      <td>2006.0</td>\n",
       "      <td>Platform</td>\n",
       "      <td>Nintendo</td>\n",
       "      <td>11.28</td>\n",
       "      <td>9.14</td>\n",
       "      <td>6.50</td>\n",
       "      <td>2.88</td>\n",
       "      <td>89.0</td>\n",
       "      <td>65.0</td>\n",
       "      <td>8.5</td>\n",
       "      <td>431.0</td>\n",
       "      <td>Nintendo</td>\n",
       "    </tr>\n",
       "    <tr>\n",
       "      <th>7</th>\n",
       "      <td>Wii</td>\n",
       "      <td>2006.0</td>\n",
       "      <td>Misc</td>\n",
       "      <td>Nintendo</td>\n",
       "      <td>13.96</td>\n",
       "      <td>9.18</td>\n",
       "      <td>2.93</td>\n",
       "      <td>2.84</td>\n",
       "      <td>58.0</td>\n",
       "      <td>41.0</td>\n",
       "      <td>6.6</td>\n",
       "      <td>129.0</td>\n",
       "      <td>Nintendo</td>\n",
       "    </tr>\n",
       "  </tbody>\n",
       "</table>\n",
       "</div>"
      ],
      "text/plain": [
       "  Platform  Year_of_Release     Genre Publisher  NA_Sales  EU_Sales  JP_Sales  \\\n",
       "0      Wii           2006.0    Sports  Nintendo     41.36     28.96      3.77   \n",
       "2      Wii           2008.0    Racing  Nintendo     15.68     12.76      3.79   \n",
       "3      Wii           2009.0    Sports  Nintendo     15.61     10.93      3.28   \n",
       "6       DS           2006.0  Platform  Nintendo     11.28      9.14      6.50   \n",
       "7      Wii           2006.0      Misc  Nintendo     13.96      9.18      2.93   \n",
       "\n",
       "   Other_Sales  Critic_Score  Critic_Count User_Score  User_Count Developer  \n",
       "0         8.45          76.0          51.0          8       322.0  Nintendo  \n",
       "2         3.29          82.0          73.0        8.3       709.0  Nintendo  \n",
       "3         2.95          80.0          73.0          8       192.0  Nintendo  \n",
       "6         2.88          89.0          65.0        8.5       431.0  Nintendo  \n",
       "7         2.84          58.0          41.0        6.6       129.0  Nintendo  "
      ]
     },
     "execution_count": 47,
     "metadata": {},
     "output_type": "execute_result"
    }
   ],
   "source": [
    "# Print X shape and head\n",
    "print(X.shape)\n",
    "X.head()"
   ]
  },
  {
   "cell_type": "markdown",
   "metadata": {},
   "source": [
    "> Since some of the features are categorical, we need to convert them to numerical. One common technique is One-Hot Encoding which creates dummy variables. You can see some simple examples of one-hot encoding [here](https://pandas.pydata.org/pandas-docs/stable/reference/api/pandas.get_dummies.html)."
   ]
  },
  {
   "cell_type": "code",
   "execution_count": 48,
   "metadata": {},
   "outputs": [
    {
     "name": "stdout",
     "output_type": "stream",
     "text": [
      "(6825, 1677)\n"
     ]
    },
    {
     "data": {
      "text/html": [
       "<div>\n",
       "<style scoped>\n",
       "    .dataframe tbody tr th:only-of-type {\n",
       "        vertical-align: middle;\n",
       "    }\n",
       "\n",
       "    .dataframe tbody tr th {\n",
       "        vertical-align: top;\n",
       "    }\n",
       "\n",
       "    .dataframe thead th {\n",
       "        text-align: right;\n",
       "    }\n",
       "</style>\n",
       "<table border=\"1\" class=\"dataframe\">\n",
       "  <thead>\n",
       "    <tr style=\"text-align: right;\">\n",
       "      <th></th>\n",
       "      <th>Year_of_Release</th>\n",
       "      <th>NA_Sales</th>\n",
       "      <th>EU_Sales</th>\n",
       "      <th>JP_Sales</th>\n",
       "      <th>Other_Sales</th>\n",
       "      <th>Critic_Score</th>\n",
       "      <th>Critic_Count</th>\n",
       "      <th>User_Count</th>\n",
       "      <th>Platform_3DS</th>\n",
       "      <th>Platform_DC</th>\n",
       "      <th>...</th>\n",
       "      <th>Developer_h.a.n.d. Inc.</th>\n",
       "      <th>Developer_iNiS</th>\n",
       "      <th>Developer_id Software</th>\n",
       "      <th>Developer_id Software, Nerve Software</th>\n",
       "      <th>Developer_id Software, Raven Software</th>\n",
       "      <th>Developer_n-Space</th>\n",
       "      <th>Developer_neo Software</th>\n",
       "      <th>Developer_odenis studio</th>\n",
       "      <th>Developer_syn Sophia</th>\n",
       "      <th>Developer_zSlide</th>\n",
       "    </tr>\n",
       "  </thead>\n",
       "  <tbody>\n",
       "    <tr>\n",
       "      <th>0</th>\n",
       "      <td>2006.0</td>\n",
       "      <td>41.36</td>\n",
       "      <td>28.96</td>\n",
       "      <td>3.77</td>\n",
       "      <td>8.45</td>\n",
       "      <td>76.0</td>\n",
       "      <td>51.0</td>\n",
       "      <td>322.0</td>\n",
       "      <td>0</td>\n",
       "      <td>0</td>\n",
       "      <td>...</td>\n",
       "      <td>0</td>\n",
       "      <td>0</td>\n",
       "      <td>0</td>\n",
       "      <td>0</td>\n",
       "      <td>0</td>\n",
       "      <td>0</td>\n",
       "      <td>0</td>\n",
       "      <td>0</td>\n",
       "      <td>0</td>\n",
       "      <td>0</td>\n",
       "    </tr>\n",
       "    <tr>\n",
       "      <th>2</th>\n",
       "      <td>2008.0</td>\n",
       "      <td>15.68</td>\n",
       "      <td>12.76</td>\n",
       "      <td>3.79</td>\n",
       "      <td>3.29</td>\n",
       "      <td>82.0</td>\n",
       "      <td>73.0</td>\n",
       "      <td>709.0</td>\n",
       "      <td>0</td>\n",
       "      <td>0</td>\n",
       "      <td>...</td>\n",
       "      <td>0</td>\n",
       "      <td>0</td>\n",
       "      <td>0</td>\n",
       "      <td>0</td>\n",
       "      <td>0</td>\n",
       "      <td>0</td>\n",
       "      <td>0</td>\n",
       "      <td>0</td>\n",
       "      <td>0</td>\n",
       "      <td>0</td>\n",
       "    </tr>\n",
       "    <tr>\n",
       "      <th>3</th>\n",
       "      <td>2009.0</td>\n",
       "      <td>15.61</td>\n",
       "      <td>10.93</td>\n",
       "      <td>3.28</td>\n",
       "      <td>2.95</td>\n",
       "      <td>80.0</td>\n",
       "      <td>73.0</td>\n",
       "      <td>192.0</td>\n",
       "      <td>0</td>\n",
       "      <td>0</td>\n",
       "      <td>...</td>\n",
       "      <td>0</td>\n",
       "      <td>0</td>\n",
       "      <td>0</td>\n",
       "      <td>0</td>\n",
       "      <td>0</td>\n",
       "      <td>0</td>\n",
       "      <td>0</td>\n",
       "      <td>0</td>\n",
       "      <td>0</td>\n",
       "      <td>0</td>\n",
       "    </tr>\n",
       "    <tr>\n",
       "      <th>6</th>\n",
       "      <td>2006.0</td>\n",
       "      <td>11.28</td>\n",
       "      <td>9.14</td>\n",
       "      <td>6.50</td>\n",
       "      <td>2.88</td>\n",
       "      <td>89.0</td>\n",
       "      <td>65.0</td>\n",
       "      <td>431.0</td>\n",
       "      <td>0</td>\n",
       "      <td>0</td>\n",
       "      <td>...</td>\n",
       "      <td>0</td>\n",
       "      <td>0</td>\n",
       "      <td>0</td>\n",
       "      <td>0</td>\n",
       "      <td>0</td>\n",
       "      <td>0</td>\n",
       "      <td>0</td>\n",
       "      <td>0</td>\n",
       "      <td>0</td>\n",
       "      <td>0</td>\n",
       "    </tr>\n",
       "    <tr>\n",
       "      <th>7</th>\n",
       "      <td>2006.0</td>\n",
       "      <td>13.96</td>\n",
       "      <td>9.18</td>\n",
       "      <td>2.93</td>\n",
       "      <td>2.84</td>\n",
       "      <td>58.0</td>\n",
       "      <td>41.0</td>\n",
       "      <td>129.0</td>\n",
       "      <td>0</td>\n",
       "      <td>0</td>\n",
       "      <td>...</td>\n",
       "      <td>0</td>\n",
       "      <td>0</td>\n",
       "      <td>0</td>\n",
       "      <td>0</td>\n",
       "      <td>0</td>\n",
       "      <td>0</td>\n",
       "      <td>0</td>\n",
       "      <td>0</td>\n",
       "      <td>0</td>\n",
       "      <td>0</td>\n",
       "    </tr>\n",
       "  </tbody>\n",
       "</table>\n",
       "<p>5 rows × 1677 columns</p>\n",
       "</div>"
      ],
      "text/plain": [
       "   Year_of_Release  NA_Sales  EU_Sales  JP_Sales  Other_Sales  Critic_Score  \\\n",
       "0           2006.0     41.36     28.96      3.77         8.45          76.0   \n",
       "2           2008.0     15.68     12.76      3.79         3.29          82.0   \n",
       "3           2009.0     15.61     10.93      3.28         2.95          80.0   \n",
       "6           2006.0     11.28      9.14      6.50         2.88          89.0   \n",
       "7           2006.0     13.96      9.18      2.93         2.84          58.0   \n",
       "\n",
       "   Critic_Count  User_Count  Platform_3DS  Platform_DC  ...  \\\n",
       "0          51.0       322.0             0            0  ...   \n",
       "2          73.0       709.0             0            0  ...   \n",
       "3          73.0       192.0             0            0  ...   \n",
       "6          65.0       431.0             0            0  ...   \n",
       "7          41.0       129.0             0            0  ...   \n",
       "\n",
       "   Developer_h.a.n.d. Inc.  Developer_iNiS  Developer_id Software  \\\n",
       "0                        0               0                      0   \n",
       "2                        0               0                      0   \n",
       "3                        0               0                      0   \n",
       "6                        0               0                      0   \n",
       "7                        0               0                      0   \n",
       "\n",
       "   Developer_id Software, Nerve Software  \\\n",
       "0                                      0   \n",
       "2                                      0   \n",
       "3                                      0   \n",
       "6                                      0   \n",
       "7                                      0   \n",
       "\n",
       "   Developer_id Software, Raven Software  Developer_n-Space  \\\n",
       "0                                      0                  0   \n",
       "2                                      0                  0   \n",
       "3                                      0                  0   \n",
       "6                                      0                  0   \n",
       "7                                      0                  0   \n",
       "\n",
       "   Developer_neo Software  Developer_odenis studio  Developer_syn Sophia  \\\n",
       "0                       0                        0                     0   \n",
       "2                       0                        0                     0   \n",
       "3                       0                        0                     0   \n",
       "6                       0                        0                     0   \n",
       "7                       0                        0                     0   \n",
       "\n",
       "   Developer_zSlide  \n",
       "0                 0  \n",
       "2                 0  \n",
       "3                 0  \n",
       "6                 0  \n",
       "7                 0  \n",
       "\n",
       "[5 rows x 1677 columns]"
      ]
     },
     "execution_count": 48,
     "metadata": {},
     "output_type": "execute_result"
    }
   ],
   "source": [
    "# Using pandas.get_dummies() create dummy variables for categorical features (needs 1 line of code only)\n",
    "...\n",
    "\n",
    "print(X.shape)\n",
    "X.head()"
   ]
  },
  {
   "cell_type": "code",
   "execution_count": 49,
   "metadata": {},
   "outputs": [
    {
     "name": "stdout",
     "output_type": "stream",
     "text": [
      "(6825,)\n",
      "['E' 'M' 'T' 'E10+' 'AO' 'K-A' 'RP']\n"
     ]
    },
    {
     "data": {
      "text/plain": [
       "0    E\n",
       "2    E\n",
       "3    E\n",
       "6    E\n",
       "7    E\n",
       "Name: Rating, dtype: object"
      ]
     },
     "execution_count": 49,
     "metadata": {},
     "output_type": "execute_result"
    }
   ],
   "source": [
    "# Print y shape and head and its unique values\n",
    "print(y.shape)\n",
    "print(y.unique())\n",
    "y.head()"
   ]
  },
  {
   "cell_type": "markdown",
   "metadata": {},
   "source": [
    "> You must convert your categorical labels/classes to numerical from 0 to 6. In Assignment-1, you used scikit-learn to do it. Here is another useful technique provided to you using `map` and `lambda` for conversion and the output type will be preserved as pandas series. NOTE: Your ourput should precisely match with the provided output."
   ]
  },
  {
   "cell_type": "code",
   "execution_count": 50,
   "metadata": {},
   "outputs": [
    {
     "name": "stdout",
     "output_type": "stream",
     "text": [
      "[0 3 2 1 4 5 6]\n",
      "(6825,)\n",
      "<class 'pandas.core.series.Series'>\n"
     ]
    },
    {
     "data": {
      "text/plain": [
       "0    0\n",
       "2    0\n",
       "3    0\n",
       "6    0\n",
       "7    0\n",
       "Name: Rating, dtype: int64"
      ]
     },
     "execution_count": 50,
     "metadata": {},
     "output_type": "execute_result"
    }
   ],
   "source": [
    "# Convert categorical class labels to numerical\n",
    "y = y.map(lambda x: {'E' :0, 'E10+' :1, 'T' :2, 'M' :3, 'AO' :4, 'K-A' :5, 'RP' :6}.get(x))\n",
    "\n",
    "print(y.unique())\n",
    "print(y.shape)\n",
    "print(type(y))\n",
    "y.head()"
   ]
  },
  {
   "cell_type": "markdown",
   "metadata": {},
   "source": [
    "> <b>Note:</b> The output of the following cell is provided to you for your reference. All the following cells depend on the correctness of your preprocessing steps and can be verified by this output."
   ]
  },
  {
   "cell_type": "code",
   "execution_count": 40,
   "metadata": {},
   "outputs": [
    {
     "name": "stdout",
     "output_type": "stream",
     "text": [
      "(6825, 1677)\n"
     ]
    },
    {
     "data": {
      "text/html": [
       "<div>\n",
       "<style scoped>\n",
       "    .dataframe tbody tr th:only-of-type {\n",
       "        vertical-align: middle;\n",
       "    }\n",
       "\n",
       "    .dataframe tbody tr th {\n",
       "        vertical-align: top;\n",
       "    }\n",
       "\n",
       "    .dataframe thead th {\n",
       "        text-align: right;\n",
       "    }\n",
       "</style>\n",
       "<table border=\"1\" class=\"dataframe\">\n",
       "  <thead>\n",
       "    <tr style=\"text-align: right;\">\n",
       "      <th></th>\n",
       "      <th>Year_of_Release</th>\n",
       "      <th>NA_Sales</th>\n",
       "      <th>EU_Sales</th>\n",
       "      <th>JP_Sales</th>\n",
       "      <th>Other_Sales</th>\n",
       "      <th>Critic_Score</th>\n",
       "      <th>Critic_Count</th>\n",
       "      <th>User_Count</th>\n",
       "      <th>Platform_3DS</th>\n",
       "      <th>Platform_DC</th>\n",
       "      <th>...</th>\n",
       "      <th>Developer_h.a.n.d. Inc.</th>\n",
       "      <th>Developer_iNiS</th>\n",
       "      <th>Developer_id Software</th>\n",
       "      <th>Developer_id Software, Nerve Software</th>\n",
       "      <th>Developer_id Software, Raven Software</th>\n",
       "      <th>Developer_n-Space</th>\n",
       "      <th>Developer_neo Software</th>\n",
       "      <th>Developer_odenis studio</th>\n",
       "      <th>Developer_syn Sophia</th>\n",
       "      <th>Developer_zSlide</th>\n",
       "    </tr>\n",
       "  </thead>\n",
       "  <tbody>\n",
       "    <tr>\n",
       "      <th>0</th>\n",
       "      <td>-0.341176</td>\n",
       "      <td>42.346639</td>\n",
       "      <td>41.790569</td>\n",
       "      <td>12.886767</td>\n",
       "      <td>31.004904</td>\n",
       "      <td>0.413014</td>\n",
       "      <td>1.147975</td>\n",
       "      <td>0.250716</td>\n",
       "      <td>-0.15243</td>\n",
       "      <td>-0.045334</td>\n",
       "      <td>...</td>\n",
       "      <td>-0.029661</td>\n",
       "      <td>-0.024214</td>\n",
       "      <td>-0.034254</td>\n",
       "      <td>-0.012105</td>\n",
       "      <td>-0.020969</td>\n",
       "      <td>-0.043682</td>\n",
       "      <td>-0.012105</td>\n",
       "      <td>-0.012105</td>\n",
       "      <td>-0.01712</td>\n",
       "      <td>-0.012105</td>\n",
       "    </tr>\n",
       "    <tr>\n",
       "      <th>2</th>\n",
       "      <td>0.133743</td>\n",
       "      <td>15.800856</td>\n",
       "      <td>18.221103</td>\n",
       "      <td>12.956315</td>\n",
       "      <td>11.884655</td>\n",
       "      <td>0.845647</td>\n",
       "      <td>2.292368</td>\n",
       "      <td>0.909519</td>\n",
       "      <td>-0.15243</td>\n",
       "      <td>-0.045334</td>\n",
       "      <td>...</td>\n",
       "      <td>-0.029661</td>\n",
       "      <td>-0.024214</td>\n",
       "      <td>-0.034254</td>\n",
       "      <td>-0.012105</td>\n",
       "      <td>-0.020969</td>\n",
       "      <td>-0.043682</td>\n",
       "      <td>-0.012105</td>\n",
       "      <td>-0.012105</td>\n",
       "      <td>-0.01712</td>\n",
       "      <td>-0.012105</td>\n",
       "    </tr>\n",
       "    <tr>\n",
       "      <th>3</th>\n",
       "      <td>0.371202</td>\n",
       "      <td>15.728496</td>\n",
       "      <td>15.558627</td>\n",
       "      <td>11.182831</td>\n",
       "      <td>10.624793</td>\n",
       "      <td>0.701436</td>\n",
       "      <td>2.292368</td>\n",
       "      <td>0.029412</td>\n",
       "      <td>-0.15243</td>\n",
       "      <td>-0.045334</td>\n",
       "      <td>...</td>\n",
       "      <td>-0.029661</td>\n",
       "      <td>-0.024214</td>\n",
       "      <td>-0.034254</td>\n",
       "      <td>-0.012105</td>\n",
       "      <td>-0.020969</td>\n",
       "      <td>-0.043682</td>\n",
       "      <td>-0.012105</td>\n",
       "      <td>-0.012105</td>\n",
       "      <td>-0.01712</td>\n",
       "      <td>-0.012105</td>\n",
       "    </tr>\n",
       "    <tr>\n",
       "      <th>6</th>\n",
       "      <td>-0.341176</td>\n",
       "      <td>11.252514</td>\n",
       "      <td>12.954346</td>\n",
       "      <td>22.380122</td>\n",
       "      <td>10.365410</td>\n",
       "      <td>1.350385</td>\n",
       "      <td>1.876225</td>\n",
       "      <td>0.436270</td>\n",
       "      <td>-0.15243</td>\n",
       "      <td>-0.045334</td>\n",
       "      <td>...</td>\n",
       "      <td>-0.029661</td>\n",
       "      <td>-0.024214</td>\n",
       "      <td>-0.034254</td>\n",
       "      <td>-0.012105</td>\n",
       "      <td>-0.020969</td>\n",
       "      <td>-0.043682</td>\n",
       "      <td>-0.012105</td>\n",
       "      <td>-0.012105</td>\n",
       "      <td>-0.01712</td>\n",
       "      <td>-0.012105</td>\n",
       "    </tr>\n",
       "    <tr>\n",
       "      <th>7</th>\n",
       "      <td>-0.341176</td>\n",
       "      <td>14.022868</td>\n",
       "      <td>13.012543</td>\n",
       "      <td>9.965734</td>\n",
       "      <td>10.217191</td>\n",
       "      <td>-0.884885</td>\n",
       "      <td>0.627797</td>\n",
       "      <td>-0.077835</td>\n",
       "      <td>-0.15243</td>\n",
       "      <td>-0.045334</td>\n",
       "      <td>...</td>\n",
       "      <td>-0.029661</td>\n",
       "      <td>-0.024214</td>\n",
       "      <td>-0.034254</td>\n",
       "      <td>-0.012105</td>\n",
       "      <td>-0.020969</td>\n",
       "      <td>-0.043682</td>\n",
       "      <td>-0.012105</td>\n",
       "      <td>-0.012105</td>\n",
       "      <td>-0.01712</td>\n",
       "      <td>-0.012105</td>\n",
       "    </tr>\n",
       "  </tbody>\n",
       "</table>\n",
       "<p>5 rows × 1677 columns</p>\n",
       "</div>"
      ],
      "text/plain": [
       "   Year_of_Release   NA_Sales   EU_Sales   JP_Sales  Other_Sales  \\\n",
       "0        -0.341176  42.346639  41.790569  12.886767    31.004904   \n",
       "2         0.133743  15.800856  18.221103  12.956315    11.884655   \n",
       "3         0.371202  15.728496  15.558627  11.182831    10.624793   \n",
       "6        -0.341176  11.252514  12.954346  22.380122    10.365410   \n",
       "7        -0.341176  14.022868  13.012543   9.965734    10.217191   \n",
       "\n",
       "   Critic_Score  Critic_Count  User_Count  Platform_3DS  Platform_DC  ...  \\\n",
       "0      0.413014      1.147975    0.250716      -0.15243    -0.045334  ...   \n",
       "2      0.845647      2.292368    0.909519      -0.15243    -0.045334  ...   \n",
       "3      0.701436      2.292368    0.029412      -0.15243    -0.045334  ...   \n",
       "6      1.350385      1.876225    0.436270      -0.15243    -0.045334  ...   \n",
       "7     -0.884885      0.627797   -0.077835      -0.15243    -0.045334  ...   \n",
       "\n",
       "   Developer_h.a.n.d. Inc.  Developer_iNiS  Developer_id Software  \\\n",
       "0                -0.029661       -0.024214              -0.034254   \n",
       "2                -0.029661       -0.024214              -0.034254   \n",
       "3                -0.029661       -0.024214              -0.034254   \n",
       "6                -0.029661       -0.024214              -0.034254   \n",
       "7                -0.029661       -0.024214              -0.034254   \n",
       "\n",
       "   Developer_id Software, Nerve Software  \\\n",
       "0                              -0.012105   \n",
       "2                              -0.012105   \n",
       "3                              -0.012105   \n",
       "6                              -0.012105   \n",
       "7                              -0.012105   \n",
       "\n",
       "   Developer_id Software, Raven Software  Developer_n-Space  \\\n",
       "0                              -0.020969          -0.043682   \n",
       "2                              -0.020969          -0.043682   \n",
       "3                              -0.020969          -0.043682   \n",
       "6                              -0.020969          -0.043682   \n",
       "7                              -0.020969          -0.043682   \n",
       "\n",
       "   Developer_neo Software  Developer_odenis studio  Developer_syn Sophia  \\\n",
       "0               -0.012105                -0.012105              -0.01712   \n",
       "2               -0.012105                -0.012105              -0.01712   \n",
       "3               -0.012105                -0.012105              -0.01712   \n",
       "6               -0.012105                -0.012105              -0.01712   \n",
       "7               -0.012105                -0.012105              -0.01712   \n",
       "\n",
       "   Developer_zSlide  \n",
       "0         -0.012105  \n",
       "2         -0.012105  \n",
       "3         -0.012105  \n",
       "6         -0.012105  \n",
       "7         -0.012105  \n",
       "\n",
       "[5 rows x 1677 columns]"
      ]
     },
     "execution_count": 40,
     "metadata": {},
     "output_type": "execute_result"
    }
   ],
   "source": [
    "# Normalize X using mean() and std()  NOTE: The output is provided for your reference.\n",
    "...\n",
    "\n",
    "print(X.shape)\n",
    "X.head()"
   ]
  },
  {
   "cell_type": "code",
   "execution_count": 52,
   "metadata": {},
   "outputs": [
    {
     "name": "stdout",
     "output_type": "stream",
     "text": [
      "(5460, 1677)\n",
      "(5460,)\n",
      "(1365, 1677)\n",
      "(1365,)\n"
     ]
    }
   ],
   "source": [
    "# Split the data to train and test with ratio of 80/20 for train/test respectively\n",
    "...\n",
    "\n",
    "print(X_train.shape)\n",
    "print(y_train.shape)\n",
    "print(X_test.shape)\n",
    "print(y_test.shape)"
   ]
  },
  {
   "cell_type": "markdown",
   "metadata": {},
   "source": [
    "## Part II - Multi-Class Classification Using Random Forests"
   ]
  },
  {
   "cell_type": "markdown",
   "metadata": {},
   "source": [
    "Next, you're going to build classifiers. Some classifiers like [Random Forests in sklearn](https://scikit-learn.org/stable/modules/generated/sklearn.ensemble.RandomForestClassifier.html) can directly be applied on multi-class classification, so let's try RF first.\n",
    "\n",
    "You may start with default hyperparameters, but you should definitely fine-tune them as described in the following cell to achieve at least 0.65 for mean cv score. Your cv score should use `accuracy` as its metric. Also notice that - as discussed in the lectures - you must apply `cross_val_score` on the whole dataset (not just on training or testing set). You may see the full documentation of `cross_val_score` [here](https://scikit-learn.org/stable/modules/generated/sklearn.model_selection.cross_val_score.html).\n",
    "\n",
    "> Note: Depending on the speed of your computer and the hyperparameter values you choose, running this cell may take a few minutes."
   ]
  },
  {
   "cell_type": "code",
   "execution_count": 5,
   "metadata": {},
   "outputs": [],
   "source": [
    "# Create a RandomForestClassifier - You may start with default hyperparameters,\n",
    "# but you should fine-tune them to achieve at least 0.65 for mean cv score\n",
    "rf_clf = ..."
   ]
  },
  {
   "cell_type": "code",
   "execution_count": null,
   "metadata": {},
   "outputs": [],
   "source": [
    "# Perform a 10-fold cross validation\n",
    "# Hint: cross validation should be done on the whole dataset\n",
    "...\n",
    "\n",
    "print(\"Mean cv Score - Random Forest: \", rf_cv_score.mean())"
   ]
  },
  {
   "cell_type": "markdown",
   "metadata": {},
   "source": [
    "> Next, you're going to fine-tune your rf classifier based on `n_estimators` hyperparameter. Depending on your computer speed, this may take a long time. Read the comments in the following cell, and plot the impact of n_estimators on mean cv scores. To make it a bit faster, you're going to change cv to 5-fold. cv `scoring` will still be `accuracy`."
   ]
  },
  {
   "cell_type": "code",
   "execution_count": null,
   "metadata": {},
   "outputs": [],
   "source": [
    "# Now fine-tune n_estimators hyperparameter as follows:\n",
    "\n",
    "# 1- Write a for loop that iterates over n_estimators from 1 to 100\n",
    "# 2- In each iteration, do 5-fold cv and calculate rf_cv_score.mean()\n",
    "# and append it to the list rf_mean_cv_scores\n",
    "# 3- Finally, plot rf_mean_cv_scores on y-axis versus n_est_list on x-axis\n",
    "# Your plot should have title \"Fine-tuning n_estimators\", and label for each axis\n",
    "# Incomplete plots will get ZERO credit!\n",
    "\n",
    "# NOTE: Depending on your computer speed, running this may take well more than an hour or even several hours!\n",
    "\n",
    "rf_mean_cv_scores = []\n",
    "n_est_list = range(1, 100)\n",
    "\n",
    "..."
   ]
  },
  {
   "cell_type": "code",
   "execution_count": null,
   "metadata": {},
   "outputs": [],
   "source": [
    "# Fit the rf_clf on the training set\n",
    "..."
   ]
  },
  {
   "cell_type": "code",
   "execution_count": null,
   "metadata": {},
   "outputs": [],
   "source": [
    "# Get feature_importances of rf for all features\n",
    "for name, score in zip(game_data, rf_clf.feature_importances_):\n",
    "    print(name, score)"
   ]
  },
  {
   "cell_type": "code",
   "execution_count": null,
   "metadata": {},
   "outputs": [],
   "source": [
    "# Make predictions on test set\n",
    "..."
   ]
  },
  {
   "cell_type": "code",
   "execution_count": null,
   "metadata": {},
   "outputs": [],
   "source": [
    "# Get classification report # Note: You must import the related module from sklearn to run this cell!\n",
    "print(metrics.classification_report(y_test, y_pred))"
   ]
  },
  {
   "cell_type": "markdown",
   "metadata": {},
   "source": [
    "### Part II Questions\n",
    "\n",
    "Answer the following question HERE:\n",
    "\n",
    "Q1 [3 points] - According to `feature_importance` of rf classifier, (which works based on the average impurity reduction of the feature across all trees of the forest) what are the most important features in predicting Rating? Name top five.\n",
    "\n",
    "Q2 [2 points]- According to your plot, what is the best range for n_estimators?\n",
    "\n",
    "Q3 [3 points] - According to the classification report of rf classifier, which classes are relatively easier to classify? Compare different metrics of each class label that you see in the classification report."
   ]
  },
  {
   "cell_type": "markdown",
   "metadata": {},
   "source": [
    "## Part III - Multi-Class Classification Using SVM and Kernels"
   ]
  },
  {
   "cell_type": "markdown",
   "metadata": {},
   "source": [
    "In Part III, you're going to use SVM and kernels for multi-class classification."
   ]
  },
  {
   "cell_type": "markdown",
   "metadata": {},
   "source": [
    "To use [SVM implementation from scikit-learn](https://scikit-learn.org/stable/modules/svm.html#multi-class-classification), you need to use OvO or OvR strategies.\n",
    "\n",
    "Remember from the lectures that SVM can be linear or non-linear using kernels. [LinearSVC](https://scikit-learn.org/stable/modules/generated/sklearn.svm.LinearSVC.html#sklearn.svm.LinearSVC) is the implementation of SVM for the case of a linear kernel.\n",
    "\n",
    "Note that [LinearSVC](https://scikit-learn.org/stable/modules/generated/sklearn.svm.LinearSVC.html#sklearn.svm.LinearSVC) does not accept keyword kernel, as this is assumed to be linear. It implements OvR multi-class strategy and uses it by default, thus training n_class models and the runtime is usually less than OvO strategy although for this dataset, it may still take a few minutes to run."
   ]
  },
  {
   "cell_type": "markdown",
   "metadata": {},
   "source": [
    "## <font color=\"red\"> Required Coding"
   ]
  },
  {
   "cell_type": "code",
   "execution_count": null,
   "metadata": {},
   "outputs": [],
   "source": [
    "# Build a linear SVM - You may start with default hyperparameters,\n",
    "# but you should fine-tune them to get at least 0.65 for mean cv score\n",
    "lin_svm_clf = ..."
   ]
  },
  {
   "cell_type": "code",
   "execution_count": null,
   "metadata": {},
   "outputs": [],
   "source": [
    "# Perform a 10-fold cross validation\n",
    "# Hint: cross validation should be done on the whole dataset\n",
    "lin_svm_cv_score = ...\n",
    "print(\"Mean cv Score - Linear SVM: \", lin_svm_cv_score.mean())"
   ]
  },
  {
   "cell_type": "code",
   "execution_count": null,
   "metadata": {},
   "outputs": [],
   "source": [
    "# Now fine-tune C hyperparameter as follows:\n",
    "\n",
    "# 1- Write a for loop that iterates over C from 1 to 100\n",
    "# 2- In each iteration, do 5-fold cv and calculate lin_svm_cv_score.mean()\n",
    "# and append it to the list svm_mean_cv_scores\n",
    "# 3- Finally, plot svm_mean_cv_scores on y-axis versus C_values on x-axis\n",
    "# Your plot should have title \"Fine-tuning C Hyperparameter\", and label for each axis\n",
    "# Incomplete plots will get ZERO credit!\n",
    "\n",
    "# NOTE: Depending on your computer speed, running this may take several hours!\n",
    "\n",
    "svm_mean_cv_scores = []\n",
    "C_values = range(1, 100)\n",
    "\n",
    "..."
   ]
  },
  {
   "cell_type": "markdown",
   "metadata": {},
   "source": [
    "> Now, let's try [kernel svm](https://scikit-learn.org/stable/modules/generated/sklearn.svm.SVC.html) on this problem. Fine-tune C hyperparameter with at least 3 values {1, 10, 100}."
   ]
  },
  {
   "cell_type": "code",
   "execution_count": null,
   "metadata": {},
   "outputs": [],
   "source": [
    "# Build a kernel svm with rbf kernel\n",
    "# Note: You should specify ovo strategy, see the example in documentation section 1.4.1.1 in the link below\n",
    "# https://scikit-learn.org/stable/modules/svm.html#multi-class-classification\n",
    "rbf_svm_clf = ..."
   ]
  },
  {
   "cell_type": "code",
   "execution_count": null,
   "metadata": {},
   "outputs": [],
   "source": [
    "# Perform a 10-fold cross validation\n",
    "# Hint: cross validation should be done on the whole dataset\n",
    "...\n",
    "\n",
    "print(\"Mean cv Score - Kernel SVM - RBF: \", rbf_svm_cv_score.mean())"
   ]
  },
  {
   "cell_type": "code",
   "execution_count": null,
   "metadata": {},
   "outputs": [],
   "source": [
    "# Build a kernel svm with polynomial kernel\n",
    "poly_svm_clf = svm.SVC(kernel='poly', decision_function_shape='ovo')"
   ]
  },
  {
   "cell_type": "code",
   "execution_count": null,
   "metadata": {},
   "outputs": [],
   "source": [
    "# Perform a 10-fold cross validation\n",
    "# Hint: cross validation should be done on the whole dataset\n",
    "...\n",
    "\n",
    "print(\"Mean cv Score - Kernel SVM - Poly: \", poly_svm_cv_score.mean())"
   ]
  },
  {
   "cell_type": "markdown",
   "metadata": {},
   "source": [
    "### Part III Questions"
   ]
  },
  {
   "cell_type": "markdown",
   "metadata": {},
   "source": [
    "Anwser the following question HERE:\n",
    "\n",
    "Q1 [2 points] - According to the plot, what is the best range of values for C hyperparameter of linear SVM?\n",
    "\n",
    "Q2 [2 points] - Acording to your experiments, which non-linear kernel worked better on this dataset? Was it better to use linear svm or kernel svm on this dataset?"
   ]
  },
  {
   "cell_type": "markdown",
   "metadata": {},
   "source": [
    "## Grading\n",
    "\n",
    "Assignment-2 has a maximum of 100 points. Make sure that you get the correct outputs for all cells that you implement and give complete answers to all questions. Also, your notebook should be written with no grammatical and spelling errors and should be easy-to-read.\n",
    "\n",
    "The breakdown of the 100 points is as follows:\n",
    "\n",
    "- Part I preprocessing: 10 points (if you don't get the correct X and y, all the following parts would be wrong, your whole assignment will get no credit!)\n",
    "\n",
    "- Part II Random Forests - 40 points\n",
    "    - Implementation and training: 12 points\n",
    "    - Fine-tuning plot: 20 points\n",
    "    - Questions: 8 points\n",
    "\n",
    "- Part III SVM and Kernels - 50 points\n",
    "    - Implementation and training: 26 points\n",
    "    - Fine-tuning C plot: 20 points\n",
    "    - Questions: 4 points\n",
    "\n",
    "<b>Note: </b>Follow the instructions of each section carefully. Up to 10 points may be deducted if your submitted notebook is not easy to read and follow or if it has grammatical, spelling or formatting issues."
   ]
  },
  {
   "cell_type": "markdown",
   "metadata": {},
   "source": [
    "Name your notebook ```Lastname-A2.ipynb```. Submit the completed notebook using the ```Assignment-2``` link on Blackboard.\n",
    "\n",
    "Grading will be based on \n",
    "\n",
    "  * correct implementation, correct answer to the questions, and\n",
    "  * readability of the notebook.\n",
    "  \n",
    "<font color=red><b>Due Date: Friday October 16th, 11:59PM.</b></font>"
   ]
  }
 ],
 "metadata": {
  "kernelspec": {
   "display_name": "Python 3",
   "language": "python",
   "name": "python3"
  },
  "language_info": {
   "codemirror_mode": {
    "name": "ipython",
    "version": 3
   },
   "file_extension": ".py",
   "mimetype": "text/x-python",
   "name": "python",
   "nbconvert_exporter": "python",
   "pygments_lexer": "ipython3",
   "version": "3.7.3"
  }
 },
 "nbformat": 4,
 "nbformat_minor": 2
}
